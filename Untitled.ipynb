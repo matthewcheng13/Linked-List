{
 "cells": [
  {
   "cell_type": "code",
   "execution_count": 424,
   "metadata": {},
   "outputs": [],
   "source": [
    "class Linked_List:\n",
    "  \n",
    "    class __Node:\n",
    "    \n",
    "        def __init__(self, val):\n",
    "            # declare and initialize the public attributes\n",
    "            # for objects of the Node class.\n",
    "            # TODO replace pass with your implementation\n",
    "            self.value = val\n",
    "            self.next = None\n",
    "            self.previous = None\n",
    "\n",
    "    def __init__(self):\n",
    "        # declare and initialize the private attributes\n",
    "        # for objects of the sentineled Linked_List class\n",
    "        # TODO replace pass with your implementation\n",
    "        self.__header = self.__Node(None)\n",
    "        self.__trailer = self.__Node(None)\n",
    "        self.__header.next = self.__trailer\n",
    "        self.__trailer.previous = self.__header\n",
    "        self.__size = 0\n",
    "\n",
    "    def __len__(self):\n",
    "        # return the number of value-containing nodes in \n",
    "        # this list.\n",
    "        # TODO replace pass with your implementation\n",
    "        return self.__size\n",
    "\n",
    "    def append_element(self, val):\n",
    "        # increase the size of the list by one, and add a\n",
    "        # node containing val at the new tail position. this \n",
    "        # is the only way to add items at the tail position.\n",
    "        # TODO replace pass with your implementation\n",
    "        cur = self.__trailer.previous\n",
    "        newest = self.__Node(val)\n",
    "        newest.next = self.__trailer\n",
    "        newest.previous = self.__trailer.previous\n",
    "        self.__trailer.previous = newest\n",
    "        newest.previous.next = newest\n",
    "        self.__size += 1\n",
    "\n",
    "    def insert_element_at(self, val, index):\n",
    "        # assuming the head position (not the header node)\n",
    "        # is indexed 0, add a node containing val at the \n",
    "        # specified index. If the index is not a valid \n",
    "        # position within the list, raise an IndexError \n",
    "        # exception. This method cannot be used to add an \n",
    "        # item at the tail position.\n",
    "        # TODO replace pass with your implementation\n",
    "        cur = self.__get_node(index)\n",
    "        newest = self.__Node(val)\n",
    "        newest.next = cur\n",
    "        newest.previous = cur.previous\n",
    "        cur.previous = newest\n",
    "        newest.previous.next = newest\n",
    "        self.__size += 1\n",
    "\n",
    "    def remove_element_at(self, index):\n",
    "        # assuming the head position (not the header node)\n",
    "        # is indexed 0, remove and return the value stored \n",
    "        # in the node at the specified index. If the index \n",
    "        # is invalid, raise an IndexError exception.\n",
    "        # TODO replace pass with your implementation\n",
    "        cur = self.__get_node(index)\n",
    "        cur.previous.next = cur.next\n",
    "        cur.next.previous = cur.previous\n",
    "        self.__size -= 1\n",
    "        return cur.value\n",
    "    \n",
    "    def __get_node(self, index):\n",
    "        # to avoid repeating the same code for \n",
    "        # insert, remove, or get element at, this private method\n",
    "        # will determine whether the size is even or odd,\n",
    "        # and then current walk accordingly. It will then\n",
    "        # return the desired node.\n",
    "        if index not in range(self.__size):\n",
    "            raise IndexError\n",
    "        if index < (self.__size + 1) // 2:\n",
    "            cur = self.__header.next\n",
    "            for i in range(index):\n",
    "                cur = cur.next\n",
    "        else:\n",
    "            cur = self.__trailer\n",
    "            for i in range(self.__size-index):\n",
    "                cur = cur.previous\n",
    "        return cur\n",
    "\n",
    "    def get_element_at(self, index):\n",
    "        # assuming the head position (not the header node)\n",
    "        # is indexed 0, return the value stored in the node \n",
    "        # at the specified index, but do not unlink it from \n",
    "        # the list. If the specified index is invalid, raise \n",
    "        # an IndexError exception.\n",
    "        # TODO replace pass with your implementation\n",
    "        cur = self.__get_node(index)\n",
    "        return cur.value\n",
    "\n",
    "    def rotate_left(self):\n",
    "        # rotate the list left one position. Conceptual indices\n",
    "        # should all decrease by one, except for the head, which\n",
    "        # should become the tail. For example, if the list is\n",
    "        # [ 5, 7, 9, -4 ], this method should alter it to\n",
    "        # [ 7, 9, -4, 5 ]. This method should modify the list in\n",
    "        # place and must not return a value.\n",
    "        # TODO replace pass with your implementation.\n",
    "        if self.__size < 2:\n",
    "            return\n",
    "        else:\n",
    "            cur = self.__header.next\n",
    "            cur.next.previous = self.__header\n",
    "            self.__header.next = cur.next\n",
    "            cur.previous = self.__trailer.previous\n",
    "            self.__trailer.previous.next = cur\n",
    "            self.__trailer.previous = cur\n",
    "            cur.next = self.__trailer\n",
    "            \n",
    "    \n",
    "    \n",
    "    def __str__(self):\n",
    "        # return a string representation of the list's\n",
    "        # contents. An empty list should appear as [ ].\n",
    "        # A list with one element should appear as [ 5 ].\n",
    "        # A list with two elements should appear as [ 5, 7 ].\n",
    "        # You may assume that the values stored inside of the\n",
    "        # node objects implement the __str__() method, so you\n",
    "        # call str(val_object) on them to get their string\n",
    "        # representations.\n",
    "        # TODO replace pass with your implementation\n",
    "        if self.__size == 0:\n",
    "            return '[ ]'\n",
    "        string = '[ '\n",
    "        cur = self.__header\n",
    "        for i in self:\n",
    "            cur = cur.next\n",
    "            value = cur.value\n",
    "            string += str(value) + ', '\n",
    "        return string[0:-2] + ' ]'\n",
    "\n",
    "    def __iter__(self):\n",
    "        # initialize a new attribute for walking through your list\n",
    "        # TODO insert your initialization code before the return\n",
    "        # statement. do not modify the return statement.\n",
    "        self.__iter_index = 0\n",
    "        self.__cur = self.__header.next\n",
    "        return self\n",
    "\n",
    "    def __next__(self):\n",
    "        # using the attribute that you initialized in __iter__(),\n",
    "        # fetch the next value and return it. If there are no more \n",
    "        # values to fetch, raise a StopIteration exception.\n",
    "        # TODO replace pass with your implementation\n",
    "        if self.__iter_index == self.__size:\n",
    "            raise StopIteration\n",
    "        val = self.__cur.value\n",
    "        self.__iter_index += 1\n",
    "        self.__cur = self.__cur.next\n",
    "        return val"
   ]
  },
  {
   "cell_type": "code",
   "execution_count": 277,
   "metadata": {},
   "outputs": [],
   "source": [
    "ll = Linked_List()"
   ]
  },
  {
   "cell_type": "code",
   "execution_count": 278,
   "metadata": {},
   "outputs": [
    {
     "data": {
      "text/plain": [
       "0"
      ]
     },
     "execution_count": 278,
     "metadata": {},
     "output_type": "execute_result"
    }
   ],
   "source": [
    "len(ll)"
   ]
  },
  {
   "cell_type": "code",
   "execution_count": 279,
   "metadata": {},
   "outputs": [],
   "source": [
    "ll.append_element(3)"
   ]
  },
  {
   "cell_type": "code",
   "execution_count": 280,
   "metadata": {},
   "outputs": [
    {
     "data": {
      "text/plain": [
       "'[ 3 ]'"
      ]
     },
     "execution_count": 280,
     "metadata": {},
     "output_type": "execute_result"
    }
   ],
   "source": [
    "str(ll)"
   ]
  },
  {
   "cell_type": "code",
   "execution_count": 281,
   "metadata": {},
   "outputs": [
    {
     "data": {
      "text/plain": [
       "1"
      ]
     },
     "execution_count": 281,
     "metadata": {},
     "output_type": "execute_result"
    }
   ],
   "source": [
    "len(ll)"
   ]
  },
  {
   "cell_type": "code",
   "execution_count": 282,
   "metadata": {},
   "outputs": [],
   "source": [
    "ll.insert_element_at(2,0)"
   ]
  },
  {
   "cell_type": "code",
   "execution_count": 283,
   "metadata": {},
   "outputs": [
    {
     "data": {
      "text/plain": [
       "'[ 2, 3 ]'"
      ]
     },
     "execution_count": 283,
     "metadata": {},
     "output_type": "execute_result"
    }
   ],
   "source": [
    "str(ll)"
   ]
  },
  {
   "cell_type": "code",
   "execution_count": 284,
   "metadata": {},
   "outputs": [],
   "source": [
    "ll.append_element(5)"
   ]
  },
  {
   "cell_type": "code",
   "execution_count": 285,
   "metadata": {},
   "outputs": [
    {
     "data": {
      "text/plain": [
       "'[ 2, 3, 5 ]'"
      ]
     },
     "execution_count": 285,
     "metadata": {},
     "output_type": "execute_result"
    }
   ],
   "source": [
    "str(ll)"
   ]
  },
  {
   "cell_type": "code",
   "execution_count": 286,
   "metadata": {},
   "outputs": [
    {
     "data": {
      "text/plain": [
       "3"
      ]
     },
     "execution_count": 286,
     "metadata": {},
     "output_type": "execute_result"
    }
   ],
   "source": [
    "len(ll)"
   ]
  },
  {
   "cell_type": "code",
   "execution_count": 251,
   "metadata": {},
   "outputs": [
    {
     "data": {
      "text/plain": [
       "(2, 3, 5)"
      ]
     },
     "execution_count": 251,
     "metadata": {},
     "output_type": "execute_result"
    }
   ],
   "source": [
    "ll.get_element_at(0),ll.get_element_at(1),ll.get_element_at(2)"
   ]
  },
  {
   "cell_type": "code",
   "execution_count": 252,
   "metadata": {},
   "outputs": [],
   "source": [
    "ll.rotate_left()"
   ]
  },
  {
   "cell_type": "code",
   "execution_count": 253,
   "metadata": {},
   "outputs": [
    {
     "data": {
      "text/plain": [
       "'[ 3, 5, 2 ]'"
      ]
     },
     "execution_count": 253,
     "metadata": {},
     "output_type": "execute_result"
    }
   ],
   "source": [
    "str(ll)"
   ]
  },
  {
   "cell_type": "code",
   "execution_count": 254,
   "metadata": {},
   "outputs": [
    {
     "data": {
      "text/plain": [
       "5"
      ]
     },
     "execution_count": 254,
     "metadata": {},
     "output_type": "execute_result"
    }
   ],
   "source": [
    "ll.remove_element_at(1)"
   ]
  },
  {
   "cell_type": "code",
   "execution_count": 255,
   "metadata": {},
   "outputs": [
    {
     "data": {
      "text/plain": [
       "'[ 3, 2 ]'"
      ]
     },
     "execution_count": 255,
     "metadata": {},
     "output_type": "execute_result"
    }
   ],
   "source": [
    "str(ll)"
   ]
  },
  {
   "cell_type": "code",
   "execution_count": 256,
   "metadata": {},
   "outputs": [
    {
     "name": "stdout",
     "output_type": "stream",
     "text": [
      "3\n",
      "2\n"
     ]
    }
   ],
   "source": [
    "for element in ll:\n",
    "    print(element)"
   ]
  },
  {
   "cell_type": "code",
   "execution_count": 288,
   "metadata": {},
   "outputs": [],
   "source": [
    "ll.append_element(2)\n",
    "ll.append_element(3)\n",
    "ll.append_element(6)\n",
    "ll.append_element(4)\n",
    "ll.append_element(8)\n",
    "ll.append_element(57)\n",
    "ll.append_element(17)\n",
    "ll.append_element(3)"
   ]
  },
  {
   "cell_type": "code",
   "execution_count": 292,
   "metadata": {},
   "outputs": [
    {
     "name": "stdout",
     "output_type": "stream",
     "text": [
      "[ 2, 5, 3, 3, 6, 7, 4, 8, 57, 17, 3 ]\n",
      "Correctly caught out of index\n",
      "[ 2, 5, 3, 3, 3, 6, 7, 7, 4, 8, 57, 17, 3 ]\n",
      "2\n",
      "5\n",
      "skip\n",
      "3\n",
      "3\n",
      "6\n",
      "7\n",
      "skip\n",
      "4\n",
      "skip\n",
      "Correctly caught out of index\n",
      "[ 2, 5, 3, 3, 3, 6, 7, 7, 4, 8, 57, 17, 3 ]\n",
      "5\n",
      "3\n",
      "6\n",
      "7\n",
      "[ 2, 3, 3, 7, 4, 8, 57, 17, 3 ]\n",
      "Correctly caught out of index\n"
     ]
    }
   ],
   "source": [
    "print(ll)\n",
    "ll.insert_element_at(3,3)\n",
    "ll.insert_element_at(7,7)\n",
    "try:\n",
    "    ll.insert_element_at(18,18)\n",
    "except IndexError:\n",
    "    print('Correctly caught out of index')\n",
    "print(ll)\n",
    "print(ll.get_element_at(0))\n",
    "print(ll.get_element_at(1))\n",
    "print('skip')\n",
    "print(ll.get_element_at(3))\n",
    "print(ll.get_element_at(4))\n",
    "print(ll.get_element_at(5))\n",
    "print(ll.get_element_at(6))\n",
    "print('skip')\n",
    "print(ll.get_element_at(8))\n",
    "print('skip')\n",
    "try:\n",
    "    ll.get_element_at(69)\n",
    "except IndexError:\n",
    "    print('Correctly caught out of index')\n",
    "print(ll)\n",
    "print(ll.remove_element_at(1))\n",
    "print(ll.remove_element_at(2))\n",
    "print(ll.remove_element_at(3))\n",
    "print(ll.remove_element_at(4))\n",
    "print(ll)\n",
    "try:\n",
    "    ll.remove_element_at(69)\n",
    "except IndexError:\n",
    "    print('Correctly caught out of index')"
   ]
  },
  {
   "cell_type": "code",
   "execution_count": 257,
   "metadata": {},
   "outputs": [
    {
     "name": "stdout",
     "output_type": "stream",
     "text": [
      "Should say \"[ ]\"\n",
      "[ ]\n",
      "Should say \"0\"\n",
      "0\n",
      "Should say three correct messages:\n",
      "Correctly caught out of cells\n",
      "Correctly caught out of cells\n",
      "Correctly caught out of cells\n",
      "Should not have anything printed before next \"should say...\" statement\n",
      "Should say \"[ 1 ]\"\n",
      "[ 1 ]\n",
      "Should say 1\n",
      "1\n",
      "Should have three correct messages and two returned values in between (2, 1)\n",
      "Correctly caught out of cells\n",
      "2\n",
      "Correctly caught out of cells\n",
      "1\n",
      "Correctly caught out of cells\n",
      "Should still be \"[ 1 ]\"\n",
      "[ 1 ]\n",
      "Should print 1\n",
      "1\n",
      "Should say \"[ 1, 2, 3 ]\":\n",
      "[ 1, 2, 3 ]\n",
      "Should say 3:\n",
      "3\n",
      "Should have three correct messages and two returned values in between (2, 1)\n",
      "Correctly caught out of cells\n",
      "2\n",
      "Correctly caught out of cells\n",
      "1\n",
      "Correctly caught out of cells\n",
      "Should be \"[ 2, 3, 1 ]\"\n",
      "[ 2, 3, 1 ]\n",
      "Should print 2 then 3 then 1\n",
      "2\n",
      "3\n",
      "1\n"
     ]
    }
   ],
   "source": [
    "if __name__ == '__main__':\n",
    "    # Your test code should go here. Be sure to look at cases\n",
    "    # when the list is empty, when it has one element, and when \n",
    "    # it has several elements. Do the indexed methods raise exceptions\n",
    "    # when given invalid indices? Do they position items\n",
    "    # correctly when given valid indices? Does the string\n",
    "    # representation of your list conform to the specified format?\n",
    "    # Does removing an element function correctly regardless of that\n",
    "    # element's location? Does a for loop iterate through your list\n",
    "    # from head to tail? Your writeup should explain why you chose the\n",
    "    # test cases. Leave all test cases in your code when submitting.\n",
    "    # TODO replace pass with your tests\n",
    "    \n",
    "    # things to check for:\n",
    "    # len(), append_element(val), insert_element_at(val,index)\n",
    "    # remove_element_at(index), get_element_at(index), rotate_left()\n",
    "    # str(), for loop\n",
    "    good = 'Correctly caught out of cells'\n",
    "    error = 'Error: Unexpected out of cells'\n",
    "    ll = Linked_List()\n",
    "    # empty list\n",
    "    print('Should say \"[ ]\"')\n",
    "    print(str(ll))\n",
    "    print('Should say \"0\"')\n",
    "    print(len(ll))\n",
    "    print('Should say three correct messages:')\n",
    "    try:\n",
    "        ll.insert_element_at(2,0)\n",
    "    except IndexError:\n",
    "        print(good)\n",
    "    try:\n",
    "        print(ll.remove_element_at(0))\n",
    "    except IndexError:\n",
    "        print(good)\n",
    "    try:\n",
    "        print(ll.get_element_at(0))\n",
    "    except IndexError:\n",
    "        print(good)\n",
    "    print('Should not have anything printed before next \"should say...\" statement')\n",
    "    for val in ll:\n",
    "        print(val)\n",
    "    ll.append_element(1)\n",
    "    \n",
    "    # list with one element\n",
    "    print('Should say \"[ 1 ]\"')\n",
    "    print(str(ll))\n",
    "    print('Should say 1')\n",
    "    print(len(ll))\n",
    "    print('Should have three correct messages and two returned values in between (2, 1)')\n",
    "    try:\n",
    "        ll.insert_element_at(2,0)\n",
    "    except IndexError:\n",
    "        print(error)\n",
    "    try:\n",
    "        ll.insert_element_at(2,3)\n",
    "    except IndexError:\n",
    "        print(good)\n",
    "    try:\n",
    "        print(ll.remove_element_at(0))\n",
    "    except IndexError:\n",
    "        print(error)\n",
    "    try:\n",
    "        print(ll.remove_element_at(3))\n",
    "    except IndexError:\n",
    "        print(good)\n",
    "    try:\n",
    "        print(ll.get_element_at(0))\n",
    "    except IndexError:\n",
    "        print(error)\n",
    "    try:\n",
    "        print(ll.get_element_at(3))\n",
    "    except IndexError:\n",
    "        print(good)\n",
    "    ll.rotate_left()\n",
    "    print('Should still be \"[ 1 ]\"')\n",
    "    print(str(ll))\n",
    "    print('Should print 1')\n",
    "    for val in ll:\n",
    "        print(val)\n",
    "    ll.append_element(2)\n",
    "    ll.append_element(3)\n",
    "    \n",
    "    # list with multiple elements\n",
    "    print('Should say \"[ 1, 2, 3 ]\":')\n",
    "    print(str(ll))\n",
    "    print('Should say 3:')\n",
    "    print(len(ll))\n",
    "    print('Should have three correct messages and two returned values in between (2, 1)')\n",
    "    try:\n",
    "        ll.insert_element_at(2,2)\n",
    "    except IndexError:\n",
    "        print(error)\n",
    "    try:\n",
    "        ll.insert_element_at(2,5)\n",
    "    except IndexError:\n",
    "        print(good)\n",
    "    try:\n",
    "        print(ll.remove_element_at(2))\n",
    "    except IndexError:\n",
    "        print(error)\n",
    "    try:\n",
    "        print(ll.remove_element_at(5))\n",
    "    except IndexError:\n",
    "        print(good)\n",
    "    try:\n",
    "        print(ll.get_element_at(0))\n",
    "    except IndexError:\n",
    "        print(error)\n",
    "    try:\n",
    "        print(ll.get_element_at(5))\n",
    "    except IndexError:\n",
    "        print(good)\n",
    "    ll.rotate_left()\n",
    "    print('Should be \"[ 2, 3, 1 ]\"')\n",
    "    print(str(ll))\n",
    "    print('Should print 2 then 3 then 1')\n",
    "    for val in ll:\n",
    "        print(val)"
   ]
  },
  {
   "cell_type": "code",
   "execution_count": 258,
   "metadata": {},
   "outputs": [],
   "source": [
    "a = Linked_List()"
   ]
  },
  {
   "cell_type": "code",
   "execution_count": 259,
   "metadata": {},
   "outputs": [],
   "source": [
    "a.rotate_left()"
   ]
  },
  {
   "cell_type": "code",
   "execution_count": 260,
   "metadata": {},
   "outputs": [
    {
     "data": {
      "text/plain": [
       "'[ ]'"
      ]
     },
     "execution_count": 260,
     "metadata": {},
     "output_type": "execute_result"
    }
   ],
   "source": [
    "str(a)"
   ]
  },
  {
   "cell_type": "code",
   "execution_count": 261,
   "metadata": {},
   "outputs": [],
   "source": [
    "a.append_element(1)\n",
    "a.append_element(2)"
   ]
  },
  {
   "cell_type": "code",
   "execution_count": 262,
   "metadata": {},
   "outputs": [
    {
     "name": "stdout",
     "output_type": "stream",
     "text": [
      "[ 1, 2 ]\n"
     ]
    }
   ],
   "source": [
    "print(str(a))"
   ]
  },
  {
   "cell_type": "code",
   "execution_count": 263,
   "metadata": {},
   "outputs": [
    {
     "name": "stdout",
     "output_type": "stream",
     "text": [
      "[ 2, 1 ]\n"
     ]
    }
   ],
   "source": [
    "a.rotate_left()\n",
    "print(a)"
   ]
  },
  {
   "cell_type": "code",
   "execution_count": 264,
   "metadata": {},
   "outputs": [
    {
     "data": {
      "text/plain": [
       "1"
      ]
     },
     "execution_count": 264,
     "metadata": {},
     "output_type": "execute_result"
    }
   ],
   "source": [
    "a.remove_element_at(1)"
   ]
  },
  {
   "cell_type": "code",
   "execution_count": 265,
   "metadata": {},
   "outputs": [],
   "source": [
    "a.rotate_left()"
   ]
  },
  {
   "cell_type": "code",
   "execution_count": 266,
   "metadata": {},
   "outputs": [
    {
     "name": "stdout",
     "output_type": "stream",
     "text": [
      "[ 2 ]\n"
     ]
    }
   ],
   "source": [
    "print(a)"
   ]
  },
  {
   "cell_type": "code",
   "execution_count": 267,
   "metadata": {},
   "outputs": [
    {
     "data": {
      "text/plain": [
       "2"
      ]
     },
     "execution_count": 267,
     "metadata": {},
     "output_type": "execute_result"
    }
   ],
   "source": [
    "a.remove_element_at(0)"
   ]
  },
  {
   "cell_type": "code",
   "execution_count": 268,
   "metadata": {},
   "outputs": [],
   "source": [
    "a.rotate_left()"
   ]
  },
  {
   "cell_type": "code",
   "execution_count": 269,
   "metadata": {},
   "outputs": [
    {
     "name": "stdout",
     "output_type": "stream",
     "text": [
      "[ ]\n"
     ]
    }
   ],
   "source": [
    "print(a)"
   ]
  },
  {
   "cell_type": "code",
   "execution_count": 270,
   "metadata": {},
   "outputs": [
    {
     "data": {
      "text/plain": [
       "'[ ]'"
      ]
     },
     "execution_count": 270,
     "metadata": {},
     "output_type": "execute_result"
    }
   ],
   "source": [
    "str(a)"
   ]
  },
  {
   "cell_type": "code",
   "execution_count": 271,
   "metadata": {},
   "outputs": [
    {
     "data": {
      "text/plain": [
       "0"
      ]
     },
     "execution_count": 271,
     "metadata": {},
     "output_type": "execute_result"
    }
   ],
   "source": [
    "len(a)"
   ]
  },
  {
   "cell_type": "code",
   "execution_count": 274,
   "metadata": {},
   "outputs": [
    {
     "name": "stdout",
     "output_type": "stream",
     "text": [
      "Input the total number of people: 5\n",
      "Initial order: [ 1, 2, 3, 4, 5 ]\n",
      "[ 3, 4, 5, 1 ]\n",
      "[ 5, 1, 3 ]\n",
      "[ 3, 5 ]\n",
      "[ 3 ]\n",
      "The survivor is: 3\n"
     ]
    }
   ],
   "source": [
    "def Josephus(ll):\n",
    "    # solve the Josephus problem following the following algorithm:\n",
    "    # rotate the list to the left by one position circularly, \n",
    "    # and then delete the first element; \n",
    "    # repeat it until there is only one element left in the list.\n",
    "    # print the sequence of survivors after each death, \n",
    "    # and finally print the survivor’s number.\n",
    "    # TODO replace pass with your implementation \n",
    "    while len(ll) > 1:\n",
    "        ll.rotate_left()\n",
    "        ll.remove_element_at(0)\n",
    "        print(ll)\n",
    "    print('The survivor is:',ll.get_element_at(0))\n",
    "\n",
    "if __name__ == '__main__':\n",
    "    n = int(input(\"Input the total number of people: \"))\n",
    "    # create a new doubly linked list object called ll\n",
    "    # with n elements named 1 to n.\n",
    "    ll = Linked_List()\n",
    "    for i in range(1,n+1):\n",
    "        ll.append_element(i)\n",
    "    # TODO insert your implementation before the print statement  \n",
    "    print(\"Initial order:\", ll)\n",
    "    Josephus(ll)"
   ]
  },
  {
   "cell_type": "code",
   "execution_count": 328,
   "metadata": {},
   "outputs": [],
   "source": [
    "class Linked_Listv2:\n",
    "  \n",
    "    class __Node:\n",
    "    \n",
    "        def __init__(self, val):\n",
    "            # declare and initialize the public attributes\n",
    "            # for objects of the Node class.\n",
    "            # TODO replace pass with your implementation\n",
    "            self.value = val\n",
    "            self.next = None\n",
    "            self.previous = None\n",
    "\n",
    "    def __init__(self):\n",
    "        # declare and initialize the private attributes\n",
    "        # for objects of the sentineled Linked_List class\n",
    "        # TODO replace pass with your implementation\n",
    "        self.__header = self.__Node(None)\n",
    "        self.__trailer = self.__Node(None)\n",
    "        self.__header.next = self.__trailer\n",
    "        self.__trailer.previous = self.__header\n",
    "        self.__size = 0\n",
    "\n",
    "    def __len__(self):\n",
    "        # return the number of value-containing nodes in \n",
    "        # this list.\n",
    "        # TODO replace pass with your implementation\n",
    "        return self.__size\n",
    "\n",
    "    def append_element(self, val):\n",
    "        # increase the size of the list by one, and add a\n",
    "        # node containing val at the new tail position. this \n",
    "        # is the only way to add items at the tail position.\n",
    "        # TODO replace pass with your implementation\n",
    "        cur = self.__trailer.previous\n",
    "        newest = self.__Node(val)\n",
    "        newest.next = self.__trailer\n",
    "        newest.previous = self.__trailer.previous\n",
    "        self.__trailer.previous = newest\n",
    "        newest.previous.next = newest\n",
    "        self.__size += 1\n",
    "\n",
    "    def insert_element_at(self, val, index):\n",
    "        # assuming the head position (not the header node)\n",
    "        # is indexed 0, add a node containing val at the \n",
    "        # specified index. If the index is not a valid \n",
    "        # position within the list, raise an IndexError \n",
    "        # exception. This method cannot be used to add an \n",
    "        # item at the tail position.\n",
    "        # TODO replace pass with your implementation\n",
    "        cur = self.__get_node(index)\n",
    "        newest = self.__Node(val)\n",
    "        newest.next = cur\n",
    "        newest.previous = cur.previous\n",
    "        cur.previous = newest\n",
    "        newest.previous.next = newest\n",
    "        self.__size += 1\n",
    "\n",
    "    def remove_element_at(self, index):\n",
    "        # assuming the head position (not the header node)\n",
    "        # is indexed 0, remove and return the value stored \n",
    "        # in the node at the specified index. If the index \n",
    "        # is invalid, raise an IndexError exception.\n",
    "        # TODO replace pass with your implementation\n",
    "        cur = self.__get_node(index)\n",
    "        cur.previous.next = cur.next\n",
    "        cur.next.previous = cur.previous\n",
    "        self.__size -= 1\n",
    "        return cur.value\n",
    "    \n",
    "    def __get_node(self, index):\n",
    "        # to avoid repeating the same code for \n",
    "        # insert, remove, or get element at, this private method\n",
    "        # will determine whether the size is even or odd,\n",
    "        # and then current walk accordingly. It will then\n",
    "        # return the desired node.\n",
    "        if index not in range(self.__size):\n",
    "            raise IndexError\n",
    "        if index < (self.__size + 1) // 2:\n",
    "            cur = self.__header.next\n",
    "            for i in range(index):\n",
    "                cur = cur.next\n",
    "        else:\n",
    "            cur = self.__trailer\n",
    "            for i in range(self.__size-index):\n",
    "                cur = cur.previous\n",
    "        return cur\n",
    "\n",
    "    def get_element_at(self, index):\n",
    "        # assuming the head position (not the header node)\n",
    "        # is indexed 0, return the value stored in the node \n",
    "        # at the specified index, but do not unlink it from \n",
    "        # the list. If the specified index is invalid, raise \n",
    "        # an IndexError exception.\n",
    "        # TODO replace pass with your implementation\n",
    "        cur = self.__get_node(index)\n",
    "        return cur.value\n",
    "\n",
    "    def rotate_left(self):\n",
    "        # rotate the list left one position. Conceptual indices\n",
    "        # should all decrease by one, except for the head, which\n",
    "        # should become the tail. For example, if the list is\n",
    "        # [ 5, 7, 9, -4 ], this method should alter it to\n",
    "        # [ 7, 9, -4, 5 ]. This method should modify the list in\n",
    "        # place and must not return a value.\n",
    "        # TODO replace pass with your implementation.\n",
    "        if self.__size < 2:\n",
    "            return\n",
    "        else:\n",
    "            cur = self.__header.next\n",
    "            cur.next.previous = self.__header\n",
    "            self.__header.next = cur.next\n",
    "            cur.previous = self.__trailer.previous\n",
    "            self.__trailer.previous.next = cur\n",
    "            self.__trailer.previous = cur\n",
    "            cur.next = self.__trailer\n",
    "            \n",
    "    def insertion_sort(my_list):\n",
    "        for k in range(1, len(my_list)):\n",
    "            item_to_place = my_list.remove_element_at(k)\n",
    "            j = k\n",
    "            while j > 0 and my_list.get_element_at(j-1) > item_to_place:\n",
    "                j -= 1\n",
    "            if j == len(my_list):\n",
    "                my_list.append_element(item_to_place)\n",
    "                \n",
    "            else:\n",
    "                my_list.insert_element_at(item_to_place, j)\n",
    "                \n",
    "    def selection_sort(my_list):\n",
    "        for k in range(len(my_list)-1):\n",
    "            min_loc = k\n",
    "            min_probe = k\n",
    "            while min_probe < len(my_list):\n",
    "                if my_list.get_element_at(min_probe) < my_list.get_element_at(min_loc):\n",
    "                    min_loc = min_probe\n",
    "                min_probe = min_probe + 1\n",
    "            if min_loc != k:\n",
    "                small = my_list.remove_element_at(min_loc)\n",
    "                my_list.insert_element_at(small, k)\n",
    "                big = my_list.remove_element_at(k+1)\n",
    "                if min_loc == len(my_list):\n",
    "                    my_list.append_element(big)\n",
    "                else:\n",
    "                    my_list.insert_element_at(big,min_loc)\n",
    "    \n",
    "    def __str__(self):\n",
    "        # return a string representation of the list's\n",
    "        # contents. An empty list should appear as [ ].\n",
    "        # A list with one element should appear as [ 5 ].\n",
    "        # A list with two elements should appear as [ 5, 7 ].\n",
    "        # You may assume that the values stored inside of the\n",
    "        # node objects implement the __str__() method, so you\n",
    "        # call str(val_object) on them to get their string\n",
    "        # representations.\n",
    "        # TODO replace pass with your implementation\n",
    "        if self.__size == 0:\n",
    "            return '[ ]'\n",
    "        string = '[ '\n",
    "        cur = self.__header\n",
    "        for i in self:\n",
    "            cur = cur.next\n",
    "            value = cur.value\n",
    "            string += str(value) + ', '\n",
    "        return string[0:-2] + ' ]'\n",
    "\n",
    "    def __iter__(self):\n",
    "        # initialize a new attribute for walking through your list\n",
    "        # TODO insert your initialization code before the return\n",
    "        # statement. do not modify the return statement.\n",
    "        self.__iter_index = 0\n",
    "        self.__cur = self.__header.next\n",
    "        return self\n",
    "\n",
    "    def __next__(self):\n",
    "        # using the attribute that you initialized in __iter__(),\n",
    "        # fetch the next value and return it. If there are no more \n",
    "        # values to fetch, raise a StopIteration exception.\n",
    "        # TODO replace pass with your implementation\n",
    "        if self.__iter_index == self.__size:\n",
    "            raise StopIteration\n",
    "        val = self.__cur.value\n",
    "        self.__iter_index += 1\n",
    "        self.__cur = self.__cur.next\n",
    "        return val"
   ]
  },
  {
   "cell_type": "code",
   "execution_count": 329,
   "metadata": {},
   "outputs": [],
   "source": [
    "item = Linked_Listv2()"
   ]
  },
  {
   "cell_type": "code",
   "execution_count": 330,
   "metadata": {},
   "outputs": [],
   "source": [
    "item.append_element(1)\n",
    "item.append_element(4)\n",
    "item.append_element(3)\n",
    "item.append_element(18)\n",
    "item.append_element(16)\n",
    "item.append_element(13)\n",
    "item.append_element(7)\n",
    "item.append_element(2)\n",
    "item.append_element(9)\n",
    "item.append_element(8)"
   ]
  },
  {
   "cell_type": "code",
   "execution_count": 331,
   "metadata": {},
   "outputs": [
    {
     "name": "stdout",
     "output_type": "stream",
     "text": [
      "[ 1, 4, 3, 18, 16, 13, 7, 2, 9, 8 ]\n"
     ]
    }
   ],
   "source": [
    "print(item)"
   ]
  },
  {
   "cell_type": "code",
   "execution_count": 332,
   "metadata": {},
   "outputs": [
    {
     "name": "stdout",
     "output_type": "stream",
     "text": [
      "[ 1, 2, 3, 4, 7, 8, 9, 13, 16, 18 ]\n"
     ]
    }
   ],
   "source": [
    "item.selection_sort()\n",
    "print(item)"
   ]
  },
  {
   "cell_type": "code",
   "execution_count": 299,
   "metadata": {},
   "outputs": [],
   "source": [
    "item.insertion_sort()"
   ]
  },
  {
   "cell_type": "code",
   "execution_count": 300,
   "metadata": {},
   "outputs": [
    {
     "name": "stdout",
     "output_type": "stream",
     "text": [
      "[ 1, 2, 3, 4, 7, 8, 9, 13, 16, 18 ]\n"
     ]
    }
   ],
   "source": [
    "print(item)"
   ]
  },
  {
   "cell_type": "code",
   "execution_count": 303,
   "metadata": {},
   "outputs": [],
   "source": [
    "numbers = Linked_List()"
   ]
  },
  {
   "cell_type": "code",
   "execution_count": 304,
   "metadata": {},
   "outputs": [],
   "source": [
    "numbers.append_element(1)\n",
    "numbers.append_element(4)\n",
    "numbers.append_element(3)\n",
    "numbers.append_element(18)\n",
    "numbers.append_element(16)\n",
    "numbers.append_element(13)\n",
    "numbers.append_element(7)\n",
    "numbers.append_element(2)\n",
    "numbers.append_element(9)\n",
    "numbers.append_element(8)"
   ]
  },
  {
   "cell_type": "code",
   "execution_count": 305,
   "metadata": {},
   "outputs": [
    {
     "name": "stdout",
     "output_type": "stream",
     "text": [
      "[ 1, 4, 3, 18, 16, 13, 7, 2, 9, 8 ]\n"
     ]
    }
   ],
   "source": [
    "print(numbers)"
   ]
  },
  {
   "cell_type": "code",
   "execution_count": 306,
   "metadata": {},
   "outputs": [],
   "source": [
    "for k in range(1,len(numbers)):\n",
    "    cur = numbers.remove_element_at(k)\n",
    "    j = k\n",
    "    while j > 0 and numbers.get_element_at(j-1) > cur:\n",
    "        j = j - 1\n",
    "    try:\n",
    "        numbers.insert_element_at(cur,j)\n",
    "    except:\n",
    "        numbers.append_element(cur)"
   ]
  },
  {
   "cell_type": "code",
   "execution_count": 307,
   "metadata": {},
   "outputs": [
    {
     "name": "stdout",
     "output_type": "stream",
     "text": [
      "[ 1, 2, 3, 4, 7, 8, 9, 13, 16, 18 ]\n"
     ]
    }
   ],
   "source": [
    "print(numbers)"
   ]
  },
  {
   "cell_type": "code",
   "execution_count": 320,
   "metadata": {},
   "outputs": [],
   "source": [
    "class Linked_Listv3:\n",
    "  \n",
    "    class __Node:\n",
    "    \n",
    "        def __init__(self, val):\n",
    "            # declare and initialize the public attributes\n",
    "            # for objects of the Node class.\n",
    "            # TODO replace pass with your implementation\n",
    "            self.value = val\n",
    "            self.next = None\n",
    "            self.previous = None\n",
    "\n",
    "    def __init__(self):\n",
    "        # declare and initialize the private attributes\n",
    "        # for objects of the sentineled Linked_List class\n",
    "        # TODO replace pass with your implementation\n",
    "        self.__header = self.__Node(None)\n",
    "        self.__trailer = self.__Node(None)\n",
    "        self.__header.next = self.__trailer\n",
    "        self.__trailer.previous = self.__header\n",
    "        self.__size = 0\n",
    "\n",
    "    def __len__(self):\n",
    "        # return the number of value-containing nodes in \n",
    "        # this list.\n",
    "        # TODO replace pass with your implementation\n",
    "        return self.__size\n",
    "\n",
    "    def append_element(self, val):\n",
    "        # increase the size of the list by one, and add a\n",
    "        # node containing val at the new tail position. this \n",
    "        # is the only way to add items at the tail position.\n",
    "        # TODO replace pass with your implementation\n",
    "        cur = self.__trailer.previous\n",
    "        newest = self.__Node(val)\n",
    "        newest.next = self.__trailer\n",
    "        newest.previous = self.__trailer.previous\n",
    "        self.__trailer.previous = newest\n",
    "        newest.previous.next = newest\n",
    "        self.__size += 1\n",
    "\n",
    "    def insert_element_at(self, val, index):\n",
    "        # assuming the head position (not the header node)\n",
    "        # is indexed 0, add a node containing val at the \n",
    "        # specified index. If the index is not a valid \n",
    "        # position within the list, raise an IndexError \n",
    "        # exception. This method cannot be used to add an \n",
    "        # item at the tail position.\n",
    "        # TODO replace pass with your implementation\n",
    "        cur = self.__get_node(index)\n",
    "        newest = self.__Node(val)\n",
    "        newest.next = cur\n",
    "        newest.previous = cur.previous\n",
    "        cur.previous = newest\n",
    "        newest.previous.next = newest\n",
    "        self.__size += 1\n",
    "\n",
    "    def remove_element_at(self, index):\n",
    "        # assuming the head position (not the header node)\n",
    "        # is indexed 0, remove and return the value stored \n",
    "        # in the node at the specified index. If the index \n",
    "        # is invalid, raise an IndexError exception.\n",
    "        # TODO replace pass with your implementation\n",
    "        cur = self.__get_node(index)\n",
    "        cur.previous.next = cur.next\n",
    "        cur.next.previous = cur.previous\n",
    "        self.__size -= 1\n",
    "        return cur.value\n",
    "    \n",
    "    def __get_node(self, index):\n",
    "        # to avoid repeating the same code for \n",
    "        # insert, remove, or get element at, this private method\n",
    "        # will determine whether the size is even or odd,\n",
    "        # and then current walk accordingly. It will then\n",
    "        # return the desired node.\n",
    "        if index not in range(self.__size):\n",
    "            raise IndexError\n",
    "        if index < (self.__size + 1) // 2:\n",
    "            cur = self.__header.next\n",
    "            for i in range(index):\n",
    "                cur = cur.next\n",
    "        else:\n",
    "            cur = self.__trailer\n",
    "            for i in range(self.__size-index):\n",
    "                cur = cur.previous\n",
    "        return cur\n",
    "\n",
    "    def get_element_at(self, index):\n",
    "        # assuming the head position (not the header node)\n",
    "        # is indexed 0, return the value stored in the node \n",
    "        # at the specified index, but do not unlink it from \n",
    "        # the list. If the specified index is invalid, raise \n",
    "        # an IndexError exception.\n",
    "        # TODO replace pass with your implementation\n",
    "        cur = self.__get_node(index)\n",
    "        return cur.value\n",
    "\n",
    "    def rotate_left(self):\n",
    "        # rotate the list left one position. Conceptual indices\n",
    "        # should all decrease by one, except for the head, which\n",
    "        # should become the tail. For example, if the list is\n",
    "        # [ 5, 7, 9, -4 ], this method should alter it to\n",
    "        # [ 7, 9, -4, 5 ]. This method should modify the list in\n",
    "        # place and must not return a value.\n",
    "        # TODO replace pass with your implementation.\n",
    "        if self.__size < 2:\n",
    "            return\n",
    "        else:\n",
    "            cur = self.__header.next\n",
    "            cur.next.previous = self.__header\n",
    "            self.__header.next = cur.next\n",
    "            cur.previous = self.__trailer.previous\n",
    "            self.__trailer.previous.next = cur\n",
    "            self.__trailer.previous = cur\n",
    "            cur.next = self.__trailer\n",
    "            \n",
    "    def find_min(my_list):\n",
    "        if len(my_list)==0:\n",
    "            raise ValueError\n",
    "        current_min = my_list.get_element_at(0)\n",
    "        for val in my_list:\n",
    "            if val < current_min:\n",
    "                current_min = val\n",
    "        return current_min\n",
    "    \n",
    "    def min_max_diff(my_list):\n",
    "        small = my_list.get_element_at(0)\n",
    "        big = my_list.get_element_at(0)\n",
    "        for k in range(1,len(my_list)):\n",
    "            if my_list.get_element_at(k) < small:\n",
    "                small = my_list.get_element_at(k)\n",
    "            if my_list.get_element_at(k) > big:\n",
    "                big = my_list.get_element_at(k)\n",
    "        return big-small\n",
    "    \n",
    "    def __str__(self):\n",
    "        # return a string representation of the list's\n",
    "        # contents. An empty list should appear as [ ].\n",
    "        # A list with one element should appear as [ 5 ].\n",
    "        # A list with two elements should appear as [ 5, 7 ].\n",
    "        # You may assume that the values stored inside of the\n",
    "        # node objects implement the __str__() method, so you\n",
    "        # call str(val_object) on them to get their string\n",
    "        # representations.\n",
    "        # TODO replace pass with your implementation\n",
    "        if self.__size == 0:\n",
    "            return '[ ]'\n",
    "        string = '[ '\n",
    "        cur = self.__header\n",
    "        for i in self:\n",
    "            cur = cur.next\n",
    "            value = cur.value\n",
    "            string += str(value) + ', '\n",
    "        return string[0:-2] + ' ]'\n",
    "\n",
    "    def __iter__(self):\n",
    "        # initialize a new attribute for walking through your list\n",
    "        # TODO insert your initialization code before the return\n",
    "        # statement. do not modify the return statement.\n",
    "        self.__iter_index = 0\n",
    "        self.__cur = self.__header.next\n",
    "        return self\n",
    "\n",
    "    def __next__(self):\n",
    "        # using the attribute that you initialized in __iter__(),\n",
    "        # fetch the next value and return it. If there are no more \n",
    "        # values to fetch, raise a StopIteration exception.\n",
    "        # TODO replace pass with your implementation\n",
    "        if self.__iter_index == self.__size:\n",
    "            raise StopIteration\n",
    "        val = self.__cur.value\n",
    "        self.__iter_index += 1\n",
    "        self.__cur = self.__cur.next\n",
    "        return val"
   ]
  },
  {
   "cell_type": "code",
   "execution_count": 321,
   "metadata": {},
   "outputs": [],
   "source": [
    "thing = Linked_Listv3()"
   ]
  },
  {
   "cell_type": "code",
   "execution_count": 325,
   "metadata": {},
   "outputs": [],
   "source": [
    "thing.append_element(3)\n",
    "thing.append_element(4)\n",
    "thing.append_element(0)\n",
    "thing.append_element(5)\n",
    "thing.append_element(1)\n",
    "thing.append_element(-1)\n",
    "thing.append_element(9)"
   ]
  },
  {
   "cell_type": "code",
   "execution_count": 326,
   "metadata": {},
   "outputs": [
    {
     "data": {
      "text/plain": [
       "-1"
      ]
     },
     "execution_count": 326,
     "metadata": {},
     "output_type": "execute_result"
    }
   ],
   "source": [
    "thing.find_min()"
   ]
  },
  {
   "cell_type": "code",
   "execution_count": 327,
   "metadata": {},
   "outputs": [
    {
     "data": {
      "text/plain": [
       "10"
      ]
     },
     "execution_count": 327,
     "metadata": {},
     "output_type": "execute_result"
    }
   ],
   "source": [
    "thing.min_max_diff()"
   ]
  },
  {
   "cell_type": "code",
   "execution_count": 364,
   "metadata": {},
   "outputs": [],
   "source": [
    "class thing:\n",
    "    class __Node:\n",
    "        def __init__(self,val):\n",
    "            self.next = None\n",
    "            self.prev = None\n",
    "            self.val = val\n",
    "            \n",
    "    def __init__(self):\n",
    "        self.head = self.__Node(1)\n",
    "        self.tail = self.__Node(3)\n",
    "        self.head.next = self.tail\n",
    "        self.tail.prev = self.head\n",
    "        \n",
    "    def insert1(self):\n",
    "        cur = self.head\n",
    "        newest = self.__Node(2)\n",
    "        newest.next = cur.next\n",
    "        newest.prev = cur\n",
    "        cur.next = newest\n",
    "        newest.next.prev = newest\n",
    "        \n",
    "    def insert2(self):\n",
    "        cur = self.head\n",
    "        newest = self.__Node(2)\n",
    "        newest.next = cur.next\n",
    "        cur.next.prev = newest\n",
    "        cur.next = newest\n",
    "        newest.prev = cur\n",
    "        \n",
    "    def insert3(self):\n",
    "        cur = self.head\n",
    "        newest = self.__Node(2)\n",
    "        cur.next.prev = cur\n",
    "        newest.next.prev = cur\n",
    "        newest.next = cur.next\n",
    "        newest.next.prev = newest\n",
    "        \n",
    "    def insert4(self):\n",
    "        cur = self.head\n",
    "        newest = self.__Node(2)\n",
    "        newest.prev = cur.next.prev\n",
    "        cur.next.prev = newest\n",
    "        newest.next = cur.next\n",
    "        cur.next = newest\n",
    "        \n",
    "    def insert5(self):\n",
    "        cur = self.head\n",
    "        newest = self.__Node(2)\n",
    "        newest.prev = cur.prev\n",
    "        newest.next = cur\n",
    "        cur.prev.next = newest\n",
    "        cur.prev = newest\n",
    "        \n",
    "    def insert6(self):\n",
    "        cur = self.head\n",
    "        newest = self.__Node(2)\n",
    "        newest.prev = cur\n",
    "        cur.next = newest\n",
    "        newest.next = cur.next\n",
    "        newest.next.prev = cur\n",
    "    \n",
    "    def show(self):\n",
    "        cur = self.head\n",
    "        for k in range(2):\n",
    "            print(cur.val)\n",
    "            cur = cur.next\n",
    "        print(cur.val)\n",
    "            \n",
    "        "
   ]
  },
  {
   "cell_type": "code",
   "execution_count": 365,
   "metadata": {},
   "outputs": [],
   "source": [
    "a = thing()"
   ]
  },
  {
   "cell_type": "code",
   "execution_count": 366,
   "metadata": {},
   "outputs": [],
   "source": [
    "a.insert1()"
   ]
  },
  {
   "cell_type": "code",
   "execution_count": 367,
   "metadata": {},
   "outputs": [
    {
     "name": "stdout",
     "output_type": "stream",
     "text": [
      "1\n",
      "2\n",
      "3\n"
     ]
    }
   ],
   "source": [
    "a.show()"
   ]
  },
  {
   "cell_type": "code",
   "execution_count": 368,
   "metadata": {},
   "outputs": [],
   "source": [
    "b = thing()"
   ]
  },
  {
   "cell_type": "code",
   "execution_count": 369,
   "metadata": {},
   "outputs": [],
   "source": [
    "b.insert2()"
   ]
  },
  {
   "cell_type": "code",
   "execution_count": 370,
   "metadata": {},
   "outputs": [
    {
     "name": "stdout",
     "output_type": "stream",
     "text": [
      "1\n",
      "2\n",
      "3\n"
     ]
    }
   ],
   "source": [
    "b.show()"
   ]
  },
  {
   "cell_type": "code",
   "execution_count": 371,
   "metadata": {},
   "outputs": [],
   "source": [
    "c = thing()"
   ]
  },
  {
   "cell_type": "code",
   "execution_count": 372,
   "metadata": {},
   "outputs": [
    {
     "ename": "AttributeError",
     "evalue": "'NoneType' object has no attribute 'prev'",
     "output_type": "error",
     "traceback": [
      "\u001b[0;31m---------------------------------------------------------------------------\u001b[0m",
      "\u001b[0;31mAttributeError\u001b[0m                            Traceback (most recent call last)",
      "\u001b[0;32m<ipython-input-372-0c2ca0bdf78f>\u001b[0m in \u001b[0;36m<module>\u001b[0;34m\u001b[0m\n\u001b[0;32m----> 1\u001b[0;31m \u001b[0mc\u001b[0m\u001b[0;34m.\u001b[0m\u001b[0minsert3\u001b[0m\u001b[0;34m(\u001b[0m\u001b[0;34m)\u001b[0m\u001b[0;34m\u001b[0m\u001b[0;34m\u001b[0m\u001b[0m\n\u001b[0m",
      "\u001b[0;32m<ipython-input-364-24dc7c7531b2>\u001b[0m in \u001b[0;36minsert3\u001b[0;34m(self)\u001b[0m\n\u001b[1;32m     32\u001b[0m         \u001b[0mnewest\u001b[0m \u001b[0;34m=\u001b[0m \u001b[0mself\u001b[0m\u001b[0;34m.\u001b[0m\u001b[0m__Node\u001b[0m\u001b[0;34m(\u001b[0m\u001b[0;36m2\u001b[0m\u001b[0;34m)\u001b[0m\u001b[0;34m\u001b[0m\u001b[0;34m\u001b[0m\u001b[0m\n\u001b[1;32m     33\u001b[0m         \u001b[0mcur\u001b[0m\u001b[0;34m.\u001b[0m\u001b[0mnext\u001b[0m\u001b[0;34m.\u001b[0m\u001b[0mprev\u001b[0m \u001b[0;34m=\u001b[0m \u001b[0mcur\u001b[0m\u001b[0;34m\u001b[0m\u001b[0;34m\u001b[0m\u001b[0m\n\u001b[0;32m---> 34\u001b[0;31m         \u001b[0mnewest\u001b[0m\u001b[0;34m.\u001b[0m\u001b[0mnext\u001b[0m\u001b[0;34m.\u001b[0m\u001b[0mprev\u001b[0m \u001b[0;34m=\u001b[0m \u001b[0mcur\u001b[0m\u001b[0;34m\u001b[0m\u001b[0;34m\u001b[0m\u001b[0m\n\u001b[0m\u001b[1;32m     35\u001b[0m         \u001b[0mnewest\u001b[0m\u001b[0;34m.\u001b[0m\u001b[0mnext\u001b[0m \u001b[0;34m=\u001b[0m \u001b[0mcur\u001b[0m\u001b[0;34m.\u001b[0m\u001b[0mnext\u001b[0m\u001b[0;34m\u001b[0m\u001b[0;34m\u001b[0m\u001b[0m\n\u001b[1;32m     36\u001b[0m         \u001b[0mnewest\u001b[0m\u001b[0;34m.\u001b[0m\u001b[0mnext\u001b[0m\u001b[0;34m.\u001b[0m\u001b[0mprev\u001b[0m \u001b[0;34m=\u001b[0m \u001b[0mnewest\u001b[0m\u001b[0;34m\u001b[0m\u001b[0;34m\u001b[0m\u001b[0m\n",
      "\u001b[0;31mAttributeError\u001b[0m: 'NoneType' object has no attribute 'prev'"
     ]
    }
   ],
   "source": [
    "c.insert3()"
   ]
  },
  {
   "cell_type": "code",
   "execution_count": 373,
   "metadata": {},
   "outputs": [],
   "source": [
    "d = thing()"
   ]
  },
  {
   "cell_type": "code",
   "execution_count": 374,
   "metadata": {},
   "outputs": [],
   "source": [
    "d.insert4()"
   ]
  },
  {
   "cell_type": "code",
   "execution_count": 375,
   "metadata": {},
   "outputs": [
    {
     "name": "stdout",
     "output_type": "stream",
     "text": [
      "1\n",
      "2\n",
      "3\n"
     ]
    }
   ],
   "source": [
    "d.show()"
   ]
  },
  {
   "cell_type": "code",
   "execution_count": 376,
   "metadata": {},
   "outputs": [],
   "source": [
    "e = thing()"
   ]
  },
  {
   "cell_type": "code",
   "execution_count": 377,
   "metadata": {},
   "outputs": [
    {
     "ename": "AttributeError",
     "evalue": "'NoneType' object has no attribute 'next'",
     "output_type": "error",
     "traceback": [
      "\u001b[0;31m---------------------------------------------------------------------------\u001b[0m",
      "\u001b[0;31mAttributeError\u001b[0m                            Traceback (most recent call last)",
      "\u001b[0;32m<ipython-input-377-63c59bc1ed4d>\u001b[0m in \u001b[0;36m<module>\u001b[0;34m\u001b[0m\n\u001b[0;32m----> 1\u001b[0;31m \u001b[0me\u001b[0m\u001b[0;34m.\u001b[0m\u001b[0minsert5\u001b[0m\u001b[0;34m(\u001b[0m\u001b[0;34m)\u001b[0m\u001b[0;34m\u001b[0m\u001b[0;34m\u001b[0m\u001b[0m\n\u001b[0m",
      "\u001b[0;32m<ipython-input-364-24dc7c7531b2>\u001b[0m in \u001b[0;36minsert5\u001b[0;34m(self)\u001b[0m\n\u001b[1;32m     49\u001b[0m         \u001b[0mnewest\u001b[0m\u001b[0;34m.\u001b[0m\u001b[0mprev\u001b[0m \u001b[0;34m=\u001b[0m \u001b[0mcur\u001b[0m\u001b[0;34m.\u001b[0m\u001b[0mprev\u001b[0m\u001b[0;34m\u001b[0m\u001b[0;34m\u001b[0m\u001b[0m\n\u001b[1;32m     50\u001b[0m         \u001b[0mnewest\u001b[0m\u001b[0;34m.\u001b[0m\u001b[0mnext\u001b[0m \u001b[0;34m=\u001b[0m \u001b[0mcur\u001b[0m\u001b[0;34m\u001b[0m\u001b[0;34m\u001b[0m\u001b[0m\n\u001b[0;32m---> 51\u001b[0;31m         \u001b[0mcur\u001b[0m\u001b[0;34m.\u001b[0m\u001b[0mprev\u001b[0m\u001b[0;34m.\u001b[0m\u001b[0mnext\u001b[0m \u001b[0;34m=\u001b[0m \u001b[0mnewest\u001b[0m\u001b[0;34m\u001b[0m\u001b[0;34m\u001b[0m\u001b[0m\n\u001b[0m\u001b[1;32m     52\u001b[0m         \u001b[0mcur\u001b[0m\u001b[0;34m.\u001b[0m\u001b[0mprev\u001b[0m \u001b[0;34m=\u001b[0m \u001b[0mnewest\u001b[0m\u001b[0;34m\u001b[0m\u001b[0;34m\u001b[0m\u001b[0m\n\u001b[1;32m     53\u001b[0m \u001b[0;34m\u001b[0m\u001b[0m\n",
      "\u001b[0;31mAttributeError\u001b[0m: 'NoneType' object has no attribute 'next'"
     ]
    }
   ],
   "source": [
    "e.insert5()"
   ]
  },
  {
   "cell_type": "code",
   "execution_count": 378,
   "metadata": {},
   "outputs": [],
   "source": [
    "f = thing()"
   ]
  },
  {
   "cell_type": "code",
   "execution_count": 379,
   "metadata": {},
   "outputs": [],
   "source": [
    "f.insert6()"
   ]
  },
  {
   "cell_type": "code",
   "execution_count": 380,
   "metadata": {},
   "outputs": [
    {
     "name": "stdout",
     "output_type": "stream",
     "text": [
      "1\n",
      "2\n",
      "2\n"
     ]
    }
   ],
   "source": [
    "f.show()"
   ]
  },
  {
   "cell_type": "code",
   "execution_count": null,
   "metadata": {},
   "outputs": [],
   "source": [
    "# copy and paste:\n",
    "# Question 1:\n",
    "# answers 1, 2, 4\n",
    "\n",
    "# Question 2:\n",
    "# a = my_list.remove_element_at(k)\n",
    "# b = my_list.get_element_at(j-1)\n",
    "# c = j==len(my_list)\n",
    "# d = my_list.append_element(item_to_place)\n",
    "# e = my_list.insert_element_at(item_to_place,j)\n",
    "\n",
    "# Question 3:\n",
    "# Not O(n^2)\n",
    "\n",
    "# Question 4:\n",
    "# O(n)\n",
    "\n",
    "# Question 5:\n",
    "# a = remove_element_at(k)\n",
    "# b = get_element_at(j-1)\n",
    "# c = insert_element_at(cur,j)\n",
    "# d = append_element(cur)\n",
    "\n",
    "# Question 6:\n",
    "# Not O(n^2)\n",
    "\n",
    "# Question 7:\n",
    "# a = len(my_list)\n",
    "# b = my_list.get_element_at(0)\n",
    "# c = current_min\n",
    "# d = current_min\n",
    "\n",
    "# Question 8:\n",
    "# a = my_list.get_element_at(0)\n",
    "# b = my_list.get_element_at(0)\n",
    "# c = my_list.get_element_at(k)\n",
    "# d = my_list.get_element_at(k)\n",
    "# e = my_list.get_element_at(k)\n",
    "# f = my_list.get_element_at(k)\n",
    "\n",
    "# Question 9:\n",
    "# Not O(n^3)\n",
    "\n",
    "# Question 10:\n",
    "# a = get_element_at(min_probe)\n",
    "# b = get_element_at(min_loc)\n",
    "# c = min_loc=min_probe\n",
    "# d = remove_element_at(min_loc)\n",
    "# e = remove_element_at(k+1)\n",
    "# f = append_element(big)\n",
    "# g = insert_element_at(big,min_loc)\n",
    "\n",
    "# Question 11:\n",
    "# O(n^3)"
   ]
  },
  {
   "cell_type": "code",
   "execution_count": 414,
   "metadata": {},
   "outputs": [],
   "source": [
    "class Linked_Listv4:\n",
    "  \n",
    "    class __Node:\n",
    "    \n",
    "        def __init__(self, val):\n",
    "            # declare and initialize the public attributes\n",
    "            # for objects of the Node class.\n",
    "            # TODO replace pass with your implementation\n",
    "            self.value = val\n",
    "            self.next = None\n",
    "            self.previous = None\n",
    "\n",
    "    def __init__(self):\n",
    "        # declare and initialize the private attributes\n",
    "        # for objects of the sentineled Linked_List class\n",
    "        # TODO replace pass with your implementation\n",
    "        self.__header = self.__Node(None)\n",
    "        self.__trailer = self.__Node(None)\n",
    "        self.__header.next = self.__trailer\n",
    "        self.__trailer.previous = self.__header\n",
    "        self.__size = 0\n",
    "\n",
    "    def __len__(self):\n",
    "        # return the number of value-containing nodes in \n",
    "        # this list.\n",
    "        # TODO replace pass with your implementation\n",
    "        return self.__size\n",
    "\n",
    "    def append_element(self, val):\n",
    "        # increase the size of the list by one, and add a\n",
    "        # node containing val at the new tail position. this \n",
    "        # is the only way to add items at the tail position.\n",
    "        # TODO replace pass with your implementation\n",
    "        cur = self.__trailer.previous\n",
    "        newest = self.__Node(val)\n",
    "        newest.next = self.__trailer\n",
    "        newest.previous = self.__trailer.previous\n",
    "        self.__trailer.previous = newest\n",
    "        newest.previous.next = newest\n",
    "        self.__size += 1\n",
    "\n",
    "    def insert_element_at(self, val, index):\n",
    "        # assuming the head position (not the header node)\n",
    "        # is indexed 0, add a node containing val at the \n",
    "        # specified index. If the index is not a valid \n",
    "        # position within the list, raise an IndexError \n",
    "        # exception. This method cannot be used to add an \n",
    "        # item at the tail position.\n",
    "        # TODO replace pass with your implementation\n",
    "        cur = self.__get_node(index)\n",
    "        newest = self.__Node(val)\n",
    "        newest.next = cur\n",
    "        newest.previous = cur.previous\n",
    "        cur.previous = newest\n",
    "        newest.previous.next = newest\n",
    "        self.__size += 1\n",
    "\n",
    "    def remove_element_at(self, index):\n",
    "        # assuming the head position (not the header node)\n",
    "        # is indexed 0, remove and return the value stored \n",
    "        # in the node at the specified index. If the index \n",
    "        # is invalid, raise an IndexError exception.\n",
    "        # TODO replace pass with your implementation\n",
    "        cur = self.__get_node(index)\n",
    "        cur.previous.next = cur.next\n",
    "        cur.next.previous = cur.previous\n",
    "        self.__size -= 1\n",
    "        return cur.value\n",
    "    \n",
    "    def __get_node(self, index):\n",
    "        # to avoid repeating the same code for \n",
    "        # insert, remove, or get element at, this private method\n",
    "        # will determine whether the size is even or odd,\n",
    "        # and then current walk accordingly. It will then\n",
    "        # return the desired node.\n",
    "        if index not in range(self.__size):\n",
    "            raise IndexError\n",
    "        if index < (self.__size + 1) // 2:\n",
    "            cur = self.__header.next\n",
    "            for i in range(index):\n",
    "                cur = cur.next\n",
    "        else:\n",
    "            cur = self.__trailer\n",
    "            for i in range(self.__size-index):\n",
    "                cur = cur.previous\n",
    "        return cur\n",
    "\n",
    "    def get_element_at(self, index):\n",
    "        # assuming the head position (not the header node)\n",
    "        # is indexed 0, return the value stored in the node \n",
    "        # at the specified index, but do not unlink it from \n",
    "        # the list. If the specified index is invalid, raise \n",
    "        # an IndexError exception.\n",
    "        # TODO replace pass with your implementation\n",
    "        cur = self.__get_node(index)\n",
    "        return cur.value\n",
    "\n",
    "    def rotate_left(self):\n",
    "        # rotate the list left one position. Conceptual indices\n",
    "        # should all decrease by one, except for the head, which\n",
    "        # should become the tail. For example, if the list is\n",
    "        # [ 5, 7, 9, -4 ], this method should alter it to\n",
    "        # [ 7, 9, -4, 5 ]. This method should modify the list in\n",
    "        # place and must not return a value.\n",
    "        # TODO replace pass with your implementation.\n",
    "        if self.__size < 2:\n",
    "            return\n",
    "        else:\n",
    "            cur = self.__header.next\n",
    "            cur.next.previous = self.__header\n",
    "            self.__header.next = cur.next\n",
    "            cur.previous = self.__trailer.previous\n",
    "            self.__trailer.previous.next = cur\n",
    "            self.__trailer.previous = cur\n",
    "            cur.next = self.__trailer\n",
    "            \n",
    "    def index_of(self,val):\n",
    "        current = self.__header.next\n",
    "        index = 0\n",
    "        while current.next:\n",
    "            if self.get_element_at(index) == val:\n",
    "                return index\n",
    "            index = index + 1\n",
    "            current = current.next\n",
    "        raise ValueError\n",
    "    \n",
    "    def __str__(self):\n",
    "        # return a string representation of the list's\n",
    "        # contents. An empty list should appear as [ ].\n",
    "        # A list with one element should appear as [ 5 ].\n",
    "        # A list with two elements should appear as [ 5, 7 ].\n",
    "        # You may assume that the values stored inside of the\n",
    "        # node objects implement the __str__() method, so you\n",
    "        # call str(val_object) on them to get their string\n",
    "        # representations.\n",
    "        # TODO replace pass with your implementation\n",
    "        if self.__size == 0:\n",
    "            return '[ ]'\n",
    "        string = '[ '\n",
    "        cur = self.__header\n",
    "        for i in self:\n",
    "            cur = cur.next\n",
    "            value = cur.value\n",
    "            string += str(value) + ', '\n",
    "        return string[0:-2] + ' ]'\n",
    "\n",
    "    def __iter__(self):\n",
    "        # initialize a new attribute for walking through your list\n",
    "        # TODO insert your initialization code before the return\n",
    "        # statement. do not modify the return statement.\n",
    "        self.__iter_index = 0\n",
    "        self.__cur = self.__header.next\n",
    "        return self\n",
    "\n",
    "    def __next__(self):\n",
    "        # using the attribute that you initialized in __iter__(),\n",
    "        # fetch the next value and return it. If there are no more \n",
    "        # values to fetch, raise a StopIteration exception.\n",
    "        # TODO replace pass with your implementation\n",
    "        if self.__iter_index == self.__size:\n",
    "            raise StopIteration\n",
    "        val = self.__cur.value\n",
    "        self.__iter_index += 1\n",
    "        self.__cur = self.__cur.next\n",
    "        return val"
   ]
  },
  {
   "cell_type": "code",
   "execution_count": 415,
   "metadata": {},
   "outputs": [],
   "source": [
    "ll = Linked_Listv4()"
   ]
  },
  {
   "cell_type": "code",
   "execution_count": 416,
   "metadata": {},
   "outputs": [],
   "source": [
    "ll.append_element(1)"
   ]
  },
  {
   "cell_type": "code",
   "execution_count": 417,
   "metadata": {},
   "outputs": [],
   "source": [
    "ll.append_element(2)"
   ]
  },
  {
   "cell_type": "code",
   "execution_count": 418,
   "metadata": {},
   "outputs": [
    {
     "name": "stdout",
     "output_type": "stream",
     "text": [
      "[ 1, 2 ]\n"
     ]
    }
   ],
   "source": [
    "print(ll)"
   ]
  },
  {
   "cell_type": "code",
   "execution_count": 419,
   "metadata": {},
   "outputs": [
    {
     "data": {
      "text/plain": [
       "1"
      ]
     },
     "execution_count": 419,
     "metadata": {},
     "output_type": "execute_result"
    }
   ],
   "source": [
    "ll.index_of(2)"
   ]
  },
  {
   "cell_type": "code",
   "execution_count": 422,
   "metadata": {},
   "outputs": [
    {
     "name": "stdout",
     "output_type": "stream",
     "text": [
      "2\n"
     ]
    }
   ],
   "source": [
    "try:\n",
    "    print(ll.index_of(3))\n",
    "except ValueError:\n",
    "    print('uh oh')"
   ]
  },
  {
   "cell_type": "code",
   "execution_count": 421,
   "metadata": {},
   "outputs": [],
   "source": [
    "ll.append_element(3)"
   ]
  },
  {
   "cell_type": "code",
   "execution_count": 423,
   "metadata": {},
   "outputs": [
    {
     "ename": "ValueError",
     "evalue": "",
     "output_type": "error",
     "traceback": [
      "\u001b[0;31m---------------------------------------------------------------------------\u001b[0m",
      "\u001b[0;31mValueError\u001b[0m                                Traceback (most recent call last)",
      "\u001b[0;32m<ipython-input-423-67afb6d639bc>\u001b[0m in \u001b[0;36m<module>\u001b[0;34m\u001b[0m\n\u001b[0;32m----> 1\u001b[0;31m \u001b[0mll\u001b[0m\u001b[0;34m.\u001b[0m\u001b[0mindex_of\u001b[0m\u001b[0;34m(\u001b[0m\u001b[0;36m4\u001b[0m\u001b[0;34m)\u001b[0m\u001b[0;34m\u001b[0m\u001b[0;34m\u001b[0m\u001b[0m\n\u001b[0m",
      "\u001b[0;32m<ipython-input-414-1f5c32c3f838>\u001b[0m in \u001b[0;36mindex_of\u001b[0;34m(self, val)\u001b[0m\n\u001b[1;32m    123\u001b[0m             \u001b[0mindex\u001b[0m \u001b[0;34m=\u001b[0m \u001b[0mindex\u001b[0m \u001b[0;34m+\u001b[0m \u001b[0;36m1\u001b[0m\u001b[0;34m\u001b[0m\u001b[0;34m\u001b[0m\u001b[0m\n\u001b[1;32m    124\u001b[0m             \u001b[0mcurrent\u001b[0m \u001b[0;34m=\u001b[0m \u001b[0mcurrent\u001b[0m\u001b[0;34m.\u001b[0m\u001b[0mnext\u001b[0m\u001b[0;34m\u001b[0m\u001b[0;34m\u001b[0m\u001b[0m\n\u001b[0;32m--> 125\u001b[0;31m         \u001b[0;32mraise\u001b[0m \u001b[0mValueError\u001b[0m\u001b[0;34m\u001b[0m\u001b[0;34m\u001b[0m\u001b[0m\n\u001b[0m\u001b[1;32m    126\u001b[0m \u001b[0;34m\u001b[0m\u001b[0m\n\u001b[1;32m    127\u001b[0m     \u001b[0;32mdef\u001b[0m \u001b[0m__str__\u001b[0m\u001b[0;34m(\u001b[0m\u001b[0mself\u001b[0m\u001b[0;34m)\u001b[0m\u001b[0;34m:\u001b[0m\u001b[0;34m\u001b[0m\u001b[0;34m\u001b[0m\u001b[0m\n",
      "\u001b[0;31mValueError\u001b[0m: "
     ]
    }
   ],
   "source": [
    "ll.index_of(4)"
   ]
  },
  {
   "cell_type": "code",
   "execution_count": 425,
   "metadata": {},
   "outputs": [],
   "source": [
    "my_list = Linked_List()"
   ]
  },
  {
   "cell_type": "code",
   "execution_count": 426,
   "metadata": {},
   "outputs": [],
   "source": [
    "def index_of(my_list,val):\n",
    "    for k in range(len(my_list)):\n",
    "        if my_list.get_element_at(k)==val:\n",
    "            return k\n",
    "    raise ValueError"
   ]
  },
  {
   "cell_type": "code",
   "execution_count": 429,
   "metadata": {},
   "outputs": [],
   "source": [
    "my_list.append_element(1)"
   ]
  },
  {
   "cell_type": "code",
   "execution_count": 431,
   "metadata": {},
   "outputs": [],
   "source": [
    "my_list.append_element(2)"
   ]
  },
  {
   "cell_type": "code",
   "execution_count": 432,
   "metadata": {},
   "outputs": [
    {
     "data": {
      "text/plain": [
       "3"
      ]
     },
     "execution_count": 432,
     "metadata": {},
     "output_type": "execute_result"
    }
   ],
   "source": [
    "index_of(my_list,2)"
   ]
  },
  {
   "cell_type": "code",
   "execution_count": 433,
   "metadata": {},
   "outputs": [
    {
     "name": "stdout",
     "output_type": "stream",
     "text": [
      "[ 1, 1, 1, 2 ]\n"
     ]
    }
   ],
   "source": [
    "print(my_list)"
   ]
  },
  {
   "cell_type": "code",
   "execution_count": 434,
   "metadata": {},
   "outputs": [],
   "source": [
    "class Linked_Listv5:\n",
    "  \n",
    "    class __Node:\n",
    "    \n",
    "        def __init__(self, val):\n",
    "            # declare and initialize the public attributes\n",
    "            # for objects of the Node class.\n",
    "            # TODO replace pass with your implementation\n",
    "            self.value = val\n",
    "            self.next = None\n",
    "            self.previous = None\n",
    "\n",
    "    def __init__(self):\n",
    "        # declare and initialize the private attributes\n",
    "        # for objects of the sentineled Linked_List class\n",
    "        # TODO replace pass with your implementation\n",
    "        self.__header = self.__Node(None)\n",
    "        self.__trailer = self.__Node(None)\n",
    "        self.__header.next = self.__trailer\n",
    "        self.__trailer.previous = self.__header\n",
    "        self.__size = 0\n",
    "\n",
    "    def __len__(self):\n",
    "        # return the number of value-containing nodes in \n",
    "        # this list.\n",
    "        # TODO replace pass with your implementation\n",
    "        return self.__size\n",
    "\n",
    "    def append_element(self, val):\n",
    "        # increase the size of the list by one, and add a\n",
    "        # node containing val at the new tail position. this \n",
    "        # is the only way to add items at the tail position.\n",
    "        # TODO replace pass with your implementation\n",
    "        cur = self.__trailer.previous\n",
    "        newest = self.__Node(val)\n",
    "        newest.next = self.__trailer\n",
    "        newest.previous = self.__trailer.previous\n",
    "        self.__trailer.previous = newest\n",
    "        newest.previous.next = newest\n",
    "        self.__size += 1\n",
    "\n",
    "    def insert_element_at(self, val, index):\n",
    "        # assuming the head position (not the header node)\n",
    "        # is indexed 0, add a node containing val at the \n",
    "        # specified index. If the index is not a valid \n",
    "        # position within the list, raise an IndexError \n",
    "        # exception. This method cannot be used to add an \n",
    "        # item at the tail position.\n",
    "        # TODO replace pass with your implementation\n",
    "        cur = self.__get_node(index)\n",
    "        newest = self.__Node(val)\n",
    "        newest.next = cur\n",
    "        newest.previous = cur.previous\n",
    "        cur.previous = newest\n",
    "        newest.previous.next = newest\n",
    "        self.__size += 1\n",
    "\n",
    "    def remove_element_at(self, index):\n",
    "        # assuming the head position (not the header node)\n",
    "        # is indexed 0, remove and return the value stored \n",
    "        # in the node at the specified index. If the index \n",
    "        # is invalid, raise an IndexError exception.\n",
    "        # TODO replace pass with your implementation\n",
    "        cur = self.__get_node(index)\n",
    "        cur.previous.next = cur.next\n",
    "        cur.next.previous = cur.previous\n",
    "        self.__size -= 1\n",
    "        return cur.value\n",
    "    \n",
    "    def __get_node(self, index):\n",
    "        # to avoid repeating the same code for \n",
    "        # insert, remove, or get element at, this private method\n",
    "        # will determine whether the size is even or odd,\n",
    "        # and then current walk accordingly. It will then\n",
    "        # return the desired node.\n",
    "        if index not in range(self.__size):\n",
    "            raise IndexError\n",
    "        if index < (self.__size + 1) // 2:\n",
    "            cur = self.__header.next\n",
    "            for i in range(index):\n",
    "                cur = cur.next\n",
    "        else:\n",
    "            cur = self.__trailer\n",
    "            for i in range(self.__size-index):\n",
    "                cur = cur.previous\n",
    "        return cur\n",
    "\n",
    "    def get_element_at(self, index):\n",
    "        # assuming the head position (not the header node)\n",
    "        # is indexed 0, return the value stored in the node \n",
    "        # at the specified index, but do not unlink it from \n",
    "        # the list. If the specified index is invalid, raise \n",
    "        # an IndexError exception.\n",
    "        # TODO replace pass with your implementation\n",
    "        cur = self.__get_node(index)\n",
    "        cur.previous.next = cur.next\n",
    "        cur.next.previous = cur.previous\n",
    "        cur.next = self.__header.next\n",
    "        cur.previous = self.__header\n",
    "        cur.next.previous = cur\n",
    "        self.__header.next = cur\n",
    "        return cur.value\n",
    "\n",
    "    def rotate_left(self):\n",
    "        # rotate the list left one position. Conceptual indices\n",
    "        # should all decrease by one, except for the head, which\n",
    "        # should become the tail. For example, if the list is\n",
    "        # [ 5, 7, 9, -4 ], this method should alter it to\n",
    "        # [ 7, 9, -4, 5 ]. This method should modify the list in\n",
    "        # place and must not return a value.\n",
    "        # TODO replace pass with your implementation.\n",
    "        if self.__size < 2:\n",
    "            return\n",
    "        else:\n",
    "            cur = self.__header.next\n",
    "            cur.next.previous = self.__header\n",
    "            self.__header.next = cur.next\n",
    "            cur.previous = self.__trailer.previous\n",
    "            self.__trailer.previous.next = cur\n",
    "            self.__trailer.previous = cur\n",
    "            cur.next = self.__trailer\n",
    "    \n",
    "    def __str__(self):\n",
    "        # return a string representation of the list's\n",
    "        # contents. An empty list should appear as [ ].\n",
    "        # A list with one element should appear as [ 5 ].\n",
    "        # A list with two elements should appear as [ 5, 7 ].\n",
    "        # You may assume that the values stored inside of the\n",
    "        # node objects implement the __str__() method, so you\n",
    "        # call str(val_object) on them to get their string\n",
    "        # representations.\n",
    "        # TODO replace pass with your implementation\n",
    "        if self.__size == 0:\n",
    "            return '[ ]'\n",
    "        string = '[ '\n",
    "        cur = self.__header\n",
    "        for i in self:\n",
    "            cur = cur.next\n",
    "            value = cur.value\n",
    "            string += str(value) + ', '\n",
    "        return string[0:-2] + ' ]'\n",
    "\n",
    "    def __iter__(self):\n",
    "        # initialize a new attribute for walking through your list\n",
    "        # TODO insert your initialization code before the return\n",
    "        # statement. do not modify the return statement.\n",
    "        self.__iter_index = 0\n",
    "        self.__cur = self.__header.next\n",
    "        return self\n",
    "\n",
    "    def __next__(self):\n",
    "        # using the attribute that you initialized in __iter__(),\n",
    "        # fetch the next value and return it. If there are no more \n",
    "        # values to fetch, raise a StopIteration exception.\n",
    "        # TODO replace pass with your implementation\n",
    "        if self.__iter_index == self.__size:\n",
    "            raise StopIteration\n",
    "        val = self.__cur.value\n",
    "        self.__iter_index += 1\n",
    "        self.__cur = self.__cur.next\n",
    "        return val"
   ]
  },
  {
   "cell_type": "code",
   "execution_count": 435,
   "metadata": {},
   "outputs": [],
   "source": [
    "ll = Linked_Listv5()"
   ]
  },
  {
   "cell_type": "code",
   "execution_count": 438,
   "metadata": {},
   "outputs": [],
   "source": [
    "ll.append_element(1)"
   ]
  },
  {
   "cell_type": "code",
   "execution_count": 439,
   "metadata": {},
   "outputs": [],
   "source": [
    "ll.append_element(2)"
   ]
  },
  {
   "cell_type": "code",
   "execution_count": 440,
   "metadata": {},
   "outputs": [
    {
     "name": "stdout",
     "output_type": "stream",
     "text": [
      "[ 1, 1, 1, 2 ]\n"
     ]
    }
   ],
   "source": [
    "print(ll)"
   ]
  },
  {
   "cell_type": "code",
   "execution_count": 441,
   "metadata": {},
   "outputs": [
    {
     "data": {
      "text/plain": [
       "2"
      ]
     },
     "execution_count": 441,
     "metadata": {},
     "output_type": "execute_result"
    }
   ],
   "source": [
    "ll.get_element_at(3)"
   ]
  },
  {
   "cell_type": "code",
   "execution_count": 443,
   "metadata": {},
   "outputs": [
    {
     "name": "stdout",
     "output_type": "stream",
     "text": [
      "[ 2, 1, 1, 1 ]\n"
     ]
    }
   ],
   "source": [
    "print(ll)"
   ]
  },
  {
   "cell_type": "code",
   "execution_count": null,
   "metadata": {},
   "outputs": [],
   "source": []
  }
 ],
 "metadata": {
  "kernelspec": {
   "display_name": "Python 3",
   "language": "python",
   "name": "python3"
  },
  "language_info": {
   "codemirror_mode": {
    "name": "ipython",
    "version": 3
   },
   "file_extension": ".py",
   "mimetype": "text/x-python",
   "name": "python",
   "nbconvert_exporter": "python",
   "pygments_lexer": "ipython3",
   "version": "3.7.6"
  }
 },
 "nbformat": 4,
 "nbformat_minor": 4
}
